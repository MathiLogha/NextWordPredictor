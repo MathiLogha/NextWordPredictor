{
  "cells": [
    {
      "cell_type": "markdown",
      "metadata": {
        "id": "view-in-github",
        "colab_type": "text"
      },
      "source": [
        "<a href=\"https://colab.research.google.com/github/MathiLogha/NextWordPredictor/blob/main/next_word_predictor.ipynb\" target=\"_parent\"><img src=\"https://colab.research.google.com/assets/colab-badge.svg\" alt=\"Open In Colab\"/></a>"
      ]
    },
    {
      "cell_type": "markdown",
      "source": [
        "1. Import the required libraries:**bold text**\n",
        "\n",
        "We use TensorFlow with Keras for our model building. We can import the LSTM model from Keras and use it.  For different NLP tasks, we can use the NLTK library.\n"
      ],
      "metadata": {
        "id": "Va4Q-HnuS9Iv"
      }
    },
    {
      "cell_type": "code",
      "execution_count": null,
      "metadata": {
        "id": "fyfDkBLO1V_H",
        "colab": {
          "base_uri": "https://localhost:8080/"
        },
        "outputId": "b8de2829-7ad9-494c-89b4-cc708d079d35"
      },
      "outputs": [
        {
          "output_type": "stream",
          "name": "stdout",
          "text": [
            "Looking in indexes: https://pypi.org/simple, https://us-python.pkg.dev/colab-wheels/public/simple/\n",
            "Requirement already satisfied: tensorflow in /usr/local/lib/python3.7/dist-packages (2.8.0+zzzcolab20220506162203)\n",
            "Requirement already satisfied: protobuf>=3.9.2 in /usr/local/lib/python3.7/dist-packages (from tensorflow) (3.17.3)\n",
            "Requirement already satisfied: termcolor>=1.1.0 in /usr/local/lib/python3.7/dist-packages (from tensorflow) (1.1.0)\n",
            "Requirement already satisfied: tensorboard<2.9,>=2.8 in /usr/local/lib/python3.7/dist-packages (from tensorflow) (2.8.0)\n",
            "Requirement already satisfied: h5py>=2.9.0 in /usr/local/lib/python3.7/dist-packages (from tensorflow) (3.1.0)\n",
            "Collecting tf-estimator-nightly==2.8.0.dev2021122109\n",
            "  Downloading tf_estimator_nightly-2.8.0.dev2021122109-py2.py3-none-any.whl (462 kB)\n",
            "\u001b[K     |████████████████████████████████| 462 kB 9.9 MB/s \n",
            "\u001b[?25hRequirement already satisfied: absl-py>=0.4.0 in /usr/local/lib/python3.7/dist-packages (from tensorflow) (1.0.0)\n",
            "Requirement already satisfied: grpcio<2.0,>=1.24.3 in /usr/local/lib/python3.7/dist-packages (from tensorflow) (1.46.1)\n",
            "Requirement already satisfied: opt-einsum>=2.3.2 in /usr/local/lib/python3.7/dist-packages (from tensorflow) (3.3.0)\n",
            "Requirement already satisfied: typing-extensions>=3.6.6 in /usr/local/lib/python3.7/dist-packages (from tensorflow) (4.2.0)\n",
            "Requirement already satisfied: libclang>=9.0.1 in /usr/local/lib/python3.7/dist-packages (from tensorflow) (14.0.1)\n",
            "Requirement already satisfied: setuptools in /usr/local/lib/python3.7/dist-packages (from tensorflow) (57.4.0)\n",
            "Requirement already satisfied: google-pasta>=0.1.1 in /usr/local/lib/python3.7/dist-packages (from tensorflow) (0.2.0)\n",
            "Requirement already satisfied: gast>=0.2.1 in /usr/local/lib/python3.7/dist-packages (from tensorflow) (0.5.3)\n",
            "Requirement already satisfied: six>=1.12.0 in /usr/local/lib/python3.7/dist-packages (from tensorflow) (1.15.0)\n",
            "Requirement already satisfied: wrapt>=1.11.0 in /usr/local/lib/python3.7/dist-packages (from tensorflow) (1.14.1)\n",
            "Requirement already satisfied: numpy>=1.20 in /usr/local/lib/python3.7/dist-packages (from tensorflow) (1.21.6)\n",
            "Requirement already satisfied: keras<2.9,>=2.8.0rc0 in /usr/local/lib/python3.7/dist-packages (from tensorflow) (2.8.0)\n",
            "Requirement already satisfied: astunparse>=1.6.0 in /usr/local/lib/python3.7/dist-packages (from tensorflow) (1.6.3)\n",
            "Requirement already satisfied: flatbuffers>=1.12 in /usr/local/lib/python3.7/dist-packages (from tensorflow) (2.0)\n",
            "Requirement already satisfied: keras-preprocessing>=1.1.1 in /usr/local/lib/python3.7/dist-packages (from tensorflow) (1.1.2)\n",
            "Requirement already satisfied: tensorflow-io-gcs-filesystem>=0.23.1 in /usr/local/lib/python3.7/dist-packages (from tensorflow) (0.26.0)\n",
            "Requirement already satisfied: wheel<1.0,>=0.23.0 in /usr/local/lib/python3.7/dist-packages (from astunparse>=1.6.0->tensorflow) (0.37.1)\n",
            "Requirement already satisfied: cached-property in /usr/local/lib/python3.7/dist-packages (from h5py>=2.9.0->tensorflow) (1.5.2)\n",
            "Requirement already satisfied: google-auth<3,>=1.6.3 in /usr/local/lib/python3.7/dist-packages (from tensorboard<2.9,>=2.8->tensorflow) (1.35.0)\n",
            "Requirement already satisfied: tensorboard-plugin-wit>=1.6.0 in /usr/local/lib/python3.7/dist-packages (from tensorboard<2.9,>=2.8->tensorflow) (1.8.1)\n",
            "Requirement already satisfied: google-auth-oauthlib<0.5,>=0.4.1 in /usr/local/lib/python3.7/dist-packages (from tensorboard<2.9,>=2.8->tensorflow) (0.4.6)\n",
            "Requirement already satisfied: requests<3,>=2.21.0 in /usr/local/lib/python3.7/dist-packages (from tensorboard<2.9,>=2.8->tensorflow) (2.23.0)\n",
            "Requirement already satisfied: tensorboard-data-server<0.7.0,>=0.6.0 in /usr/local/lib/python3.7/dist-packages (from tensorboard<2.9,>=2.8->tensorflow) (0.6.1)\n",
            "Requirement already satisfied: werkzeug>=0.11.15 in /usr/local/lib/python3.7/dist-packages (from tensorboard<2.9,>=2.8->tensorflow) (1.0.1)\n",
            "Requirement already satisfied: markdown>=2.6.8 in /usr/local/lib/python3.7/dist-packages (from tensorboard<2.9,>=2.8->tensorflow) (3.3.7)\n",
            "Requirement already satisfied: cachetools<5.0,>=2.0.0 in /usr/local/lib/python3.7/dist-packages (from google-auth<3,>=1.6.3->tensorboard<2.9,>=2.8->tensorflow) (4.2.4)\n",
            "Requirement already satisfied: rsa<5,>=3.1.4 in /usr/local/lib/python3.7/dist-packages (from google-auth<3,>=1.6.3->tensorboard<2.9,>=2.8->tensorflow) (4.8)\n",
            "Requirement already satisfied: pyasn1-modules>=0.2.1 in /usr/local/lib/python3.7/dist-packages (from google-auth<3,>=1.6.3->tensorboard<2.9,>=2.8->tensorflow) (0.2.8)\n",
            "Requirement already satisfied: requests-oauthlib>=0.7.0 in /usr/local/lib/python3.7/dist-packages (from google-auth-oauthlib<0.5,>=0.4.1->tensorboard<2.9,>=2.8->tensorflow) (1.3.1)\n",
            "Requirement already satisfied: importlib-metadata>=4.4 in /usr/local/lib/python3.7/dist-packages (from markdown>=2.6.8->tensorboard<2.9,>=2.8->tensorflow) (4.11.3)\n",
            "Requirement already satisfied: zipp>=0.5 in /usr/local/lib/python3.7/dist-packages (from importlib-metadata>=4.4->markdown>=2.6.8->tensorboard<2.9,>=2.8->tensorflow) (3.8.0)\n",
            "Requirement already satisfied: pyasn1<0.5.0,>=0.4.6 in /usr/local/lib/python3.7/dist-packages (from pyasn1-modules>=0.2.1->google-auth<3,>=1.6.3->tensorboard<2.9,>=2.8->tensorflow) (0.4.8)\n",
            "Requirement already satisfied: idna<3,>=2.5 in /usr/local/lib/python3.7/dist-packages (from requests<3,>=2.21.0->tensorboard<2.9,>=2.8->tensorflow) (2.10)\n",
            "Requirement already satisfied: urllib3!=1.25.0,!=1.25.1,<1.26,>=1.21.1 in /usr/local/lib/python3.7/dist-packages (from requests<3,>=2.21.0->tensorboard<2.9,>=2.8->tensorflow) (1.24.3)\n",
            "Requirement already satisfied: certifi>=2017.4.17 in /usr/local/lib/python3.7/dist-packages (from requests<3,>=2.21.0->tensorboard<2.9,>=2.8->tensorflow) (2022.5.18.1)\n",
            "Requirement already satisfied: chardet<4,>=3.0.2 in /usr/local/lib/python3.7/dist-packages (from requests<3,>=2.21.0->tensorboard<2.9,>=2.8->tensorflow) (3.0.4)\n",
            "Requirement already satisfied: oauthlib>=3.0.0 in /usr/local/lib/python3.7/dist-packages (from requests-oauthlib>=0.7.0->google-auth-oauthlib<0.5,>=0.4.1->tensorboard<2.9,>=2.8->tensorflow) (3.2.0)\n",
            "Installing collected packages: tf-estimator-nightly\n",
            "Successfully installed tf-estimator-nightly-2.8.0.dev2021122109\n"
          ]
        }
      ],
      "source": [
        "!pip install tensorflow"
      ]
    },
    {
      "cell_type": "code",
      "execution_count": null,
      "metadata": {
        "colab": {
          "base_uri": "https://localhost:8080/"
        },
        "id": "fN0kOZKz1oo3",
        "outputId": "d490cec4-21f6-4e01-e17f-28cdeb127b53"
      },
      "outputs": [
        {
          "output_type": "stream",
          "name": "stdout",
          "text": [
            "Looking in indexes: https://pypi.org/simple, https://us-python.pkg.dev/colab-wheels/public/simple/\n",
            "Requirement already satisfied: keras in /usr/local/lib/python3.7/dist-packages (2.8.0)\n"
          ]
        }
      ],
      "source": [
        "!pip install keras\n",
        "import numpy as np\n",
        "from nltk.tokenize import RegexpTokenizer\n",
        "from keras.models import Sequential, load_model\n",
        "from keras.layers import LSTM\n",
        "from keras.layers.core import Dense, Activation\n",
        "from tensorflow.keras.optimizers import RMSprop\n",
        "import matplotlib.pyplot as plt\n",
        "import pickle\n",
        "import heapq"
      ]
    },
    {
      "cell_type": "markdown",
      "source": [
        "**2. Read the dataset:**\n",
        "\n",
        "\n",
        "We can check the length of the corpus by using the len function on text after reading and converting everything to lower case to avoid duplication of words."
      ],
      "metadata": {
        "id": "CYh_Z2FkTUze"
      }
    },
    {
      "cell_type": "code",
      "execution_count": null,
      "metadata": {
        "id": "oUXNlfsk1t_u",
        "colab": {
          "resources": {
            "http://localhost:8080/nbextensions/google.colab/files.js": {
              "data": "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",
              "ok": true,
              "headers": [
                [
                  "content-type",
                  "application/javascript"
                ]
              ],
              "status": 200,
              "status_text": ""
            }
          },
          "base_uri": "https://localhost:8080/",
          "height": 74
        },
        "outputId": "a9b4b056-b10e-4cfd-8147-95903875b2cb"
      },
      "outputs": [
        {
          "output_type": "display_data",
          "data": {
            "text/plain": [
              "<IPython.core.display.HTML object>"
            ],
            "text/html": [
              "\n",
              "     <input type=\"file\" id=\"files-015de2e2-c2b0-4787-8a83-1f971b929728\" name=\"files[]\" multiple disabled\n",
              "        style=\"border:none\" />\n",
              "     <output id=\"result-015de2e2-c2b0-4787-8a83-1f971b929728\">\n",
              "      Upload widget is only available when the cell has been executed in the\n",
              "      current browser session. Please rerun this cell to enable.\n",
              "      </output>\n",
              "      <script src=\"/nbextensions/google.colab/files.js\"></script> "
            ]
          },
          "metadata": {}
        },
        {
          "output_type": "stream",
          "name": "stdout",
          "text": [
            "Saving 1661-0.txt to 1661-0.txt\n"
          ]
        }
      ],
      "source": [
        "from google.colab import files\n",
        "uploaded = files.upload()"
      ]
    },
    {
      "cell_type": "code",
      "execution_count": null,
      "metadata": {
        "colab": {
          "base_uri": "https://localhost:8080/"
        },
        "id": "IW9e_y474wGK",
        "outputId": "baebc6a8-6ace-4bc0-8a23-0a7cddcebc4e"
      },
      "outputs": [
        {
          "output_type": "stream",
          "name": "stdout",
          "text": [
            "corpus length: 581941\n"
          ]
        }
      ],
      "source": [
        "text = open('1661-0.txt', encoding='utf-8').read().lower()\n",
        "print('corpus length:', len(text))"
      ]
    },
    {
      "cell_type": "markdown",
      "source": [
        "**3.  Using tokenizers:**\n",
        "\n",
        "\n",
        "The tokenizers are required so that we can split into each word and store them."
      ],
      "metadata": {
        "id": "fqNmO_0QTc9N"
      }
    },
    {
      "cell_type": "code",
      "execution_count": null,
      "metadata": {
        "id": "lKWA64Fa8eGo"
      },
      "outputs": [],
      "source": [
        "from nltk.tokenize import RegexpTokenizer\n",
        "tokenizer = RegexpTokenizer(r'\\w+')\n",
        "words = tokenizer.tokenize(text)"
      ]
    },
    {
      "cell_type": "markdown",
      "source": [
        "**4. Getting unique words:**\n",
        "\n",
        "\n",
        "We get all the unique words and we require a dictionary with each word in the data within the list of unique words as the key and its significant portions as value."
      ],
      "metadata": {
        "id": "y6BiMXlbTjJb"
      }
    },
    {
      "cell_type": "code",
      "execution_count": null,
      "metadata": {
        "id": "HDmBVSGX8iiR"
      },
      "outputs": [],
      "source": [
        "import numpy as np\n",
        "unique_words = np.unique(words)\n",
        "unique_word_index = dict((c, i) for i, c in enumerate(unique_words))"
      ]
    },
    {
      "cell_type": "markdown",
      "source": [
        "**5. Feature Engineering:**\n",
        "\n",
        "\n",
        "\n",
        "Feature engineering will make the words into numerical representation so that it is easy to process them."
      ],
      "metadata": {
        "id": "QVb8gHQyTtIj"
      }
    },
    {
      "cell_type": "code",
      "execution_count": null,
      "metadata": {
        "colab": {
          "base_uri": "https://localhost:8080/"
        },
        "id": "Gq-50AE88kPA",
        "outputId": "c51620e3-b1f0-4202-f9b8-be4901d29a4a"
      },
      "outputs": [
        {
          "output_type": "stream",
          "name": "stdout",
          "text": [
            "['project', 'gutenberg', 's', 'the', 'adventures']\n",
            "of\n"
          ]
        }
      ],
      "source": [
        "WORD_LENGTH = 5\n",
        "prev_words = []\n",
        "next_words = []\n",
        "for i in range(len(words) - WORD_LENGTH):\n",
        "    prev_words.append(words[i:i + WORD_LENGTH])\n",
        "    next_words.append(words[i + WORD_LENGTH])\n",
        "print(prev_words[0])\n",
        "print(next_words[0])"
      ]
    },
    {
      "cell_type": "markdown",
      "source": [
        "**6. Storing features and labels:**\n",
        "\n",
        "\n",
        "X will be used to get the features and Y to get the labels associated with them."
      ],
      "metadata": {
        "id": "wzdrvkv2T0rT"
      }
    },
    {
      "cell_type": "code",
      "execution_count": null,
      "metadata": {
        "id": "8eSDzDgb8oRM"
      },
      "outputs": [],
      "source": [
        "X = np.zeros((len(prev_words), WORD_LENGTH, len(unique_words)), dtype=bool)\n",
        "Y = np.zeros((len(next_words), len(unique_words)), dtype=bool)"
      ]
    },
    {
      "cell_type": "code",
      "execution_count": null,
      "metadata": {
        "id": "Cactw_ps8rUX"
      },
      "outputs": [],
      "source": [
        "for i, each_words in enumerate(prev_words):\n",
        "    for j, each_word in enumerate(each_words):\n",
        "        X[i, j, unique_word_index[each_word]] = 1\n",
        "    Y[i, unique_word_index[next_words[i]]] = 1"
      ]
    },
    {
      "cell_type": "code",
      "execution_count": null,
      "metadata": {
        "colab": {
          "base_uri": "https://localhost:8080/"
        },
        "id": "nSjQlOtO8sai",
        "outputId": "8b3ee2e4-6142-4a30-ebe5-41ec8119d0d8"
      },
      "outputs": [
        {
          "output_type": "stream",
          "name": "stdout",
          "text": [
            "[False False False ... False False False]\n"
          ]
        }
      ],
      "source": [
        "print(X[0][0])"
      ]
    },
    {
      "cell_type": "markdown",
      "source": [
        "**7. Building our model:**\n",
        "\n",
        "\n",
        "We can see that we have built an LSTM model and used a softmax activation at the end to get few specific words predicted by the model."
      ],
      "metadata": {
        "id": "P3V1MyqbT6_m"
      }
    },
    {
      "cell_type": "code",
      "execution_count": null,
      "metadata": {
        "id": "AFg3rbfT8uod"
      },
      "outputs": [],
      "source": [
        "from keras.models import Sequential, load_model\n",
        "from keras.layers import LSTM\n",
        "from keras.layers.core import Dense, Activation\n",
        "model = Sequential()\n",
        "model.add(LSTM(128, input_shape=(WORD_LENGTH, len(unique_words))))\n",
        "model.add(Dense(len(unique_words)))\n",
        "model.add(Activation('softmax'))"
      ]
    },
    {
      "cell_type": "markdown",
      "source": [
        "8. Model training:\n",
        "**bold text**\n",
        "\n",
        "The model training uses RMSprop as the optimizer with a learning rate of 0.02 and uses categorical cross-entropy for loss function. With a batch size of 128 and a split of 0.5, we train our model."
      ],
      "metadata": {
        "id": "LrxdKvivUCLE"
      }
    },
    {
      "cell_type": "code",
      "execution_count": null,
      "metadata": {
        "colab": {
          "base_uri": "https://localhost:8080/"
        },
        "id": "4OIdyS9r8ybB",
        "outputId": "2dea0337-7467-4629-e443-e33a4d83db85"
      },
      "outputs": [
        {
          "metadata": {
            "tags": null
          },
          "name": "stdout",
          "output_type": "stream",
          "text": [
            "Epoch 1/20\n"
          ]
        },
        {
          "metadata": {
            "tags": null
          },
          "name": "stderr",
          "output_type": "stream",
          "text": [
            "/usr/local/lib/python3.7/dist-packages/keras/optimizer_v2/rmsprop.py:130: UserWarning: The `lr` argument is deprecated, use `learning_rate` instead.\n",
            "  super(RMSprop, self).__init__(name, **kwargs)\n"
          ]
        },
        {
          "output_type": "stream",
          "name": "stdout",
          "text": [
            "811/811 [==============================] - 273s 333ms/step - loss: 6.0208 - accuracy: 0.1067 - val_loss: 7.0500 - val_accuracy: 0.0963\n",
            "Epoch 2/20\n",
            "811/811 [==============================] - 258s 319ms/step - loss: 5.7821 - accuracy: 0.1466 - val_loss: 7.9404 - val_accuracy: 0.1073\n",
            "Epoch 3/20\n",
            "811/811 [==============================] - 258s 318ms/step - loss: 5.7458 - accuracy: 0.1762 - val_loss: 8.0355 - val_accuracy: 0.1071\n",
            "Epoch 4/20\n",
            "811/811 [==============================] - 257s 317ms/step - loss: 5.4252 - accuracy: 0.2105 - val_loss: 8.3428 - val_accuracy: 0.1031\n",
            "Epoch 5/20\n",
            "811/811 [==============================] - 261s 322ms/step - loss: 5.1023 - accuracy: 0.2485 - val_loss: 8.2440 - val_accuracy: 0.0919\n",
            "Epoch 6/20\n",
            "811/811 [==============================] - 261s 321ms/step - loss: 4.7979 - accuracy: 0.2884 - val_loss: 8.6138 - val_accuracy: 0.0864\n",
            "Epoch 7/20\n",
            "811/811 [==============================] - 262s 323ms/step - loss: 4.5018 - accuracy: 0.3283 - val_loss: 8.8038 - val_accuracy: 0.0871\n",
            "Epoch 8/20\n",
            "811/811 [==============================] - 263s 324ms/step - loss: 4.2342 - accuracy: 0.3695 - val_loss: 9.0934 - val_accuracy: 0.0828\n",
            "Epoch 9/20\n",
            "811/811 [==============================] - 265s 327ms/step - loss: 4.0129 - accuracy: 0.4031 - val_loss: 9.3486 - val_accuracy: 0.0745\n",
            "Epoch 10/20\n",
            "811/811 [==============================] - 270s 332ms/step - loss: 3.8414 - accuracy: 0.4337 - val_loss: 9.2591 - val_accuracy: 0.0774\n",
            "Epoch 11/20\n",
            "811/811 [==============================] - 261s 322ms/step - loss: 3.7181 - accuracy: 0.4608 - val_loss: 9.5509 - val_accuracy: 0.0736\n",
            "Epoch 12/20\n",
            "811/811 [==============================] - 261s 321ms/step - loss: 3.5955 - accuracy: 0.4831 - val_loss: 9.7223 - val_accuracy: 0.0705\n",
            "Epoch 13/20\n",
            "811/811 [==============================] - 263s 324ms/step - loss: 3.4954 - accuracy: 0.5045 - val_loss: 9.8567 - val_accuracy: 0.0729\n",
            "Epoch 14/20\n",
            "811/811 [==============================] - 262s 323ms/step - loss: 3.4255 - accuracy: 0.5217 - val_loss: 9.8083 - val_accuracy: 0.0718\n",
            "Epoch 15/20\n",
            "811/811 [==============================] - 264s 325ms/step - loss: 3.3549 - accuracy: 0.5379 - val_loss: 9.9594 - val_accuracy: 0.0696\n",
            "Epoch 16/20\n",
            "811/811 [==============================] - 268s 330ms/step - loss: 3.2822 - accuracy: 0.5523 - val_loss: 10.0117 - val_accuracy: 0.0681\n",
            "Epoch 17/20\n",
            "811/811 [==============================] - 265s 327ms/step - loss: 3.2282 - accuracy: 0.5622 - val_loss: 10.3089 - val_accuracy: 0.0718\n",
            "Epoch 18/20\n",
            "676/811 [========================>.....] - ETA: 42s - loss: 3.1433 - accuracy: 0.5797"
          ]
        }
      ],
      "source": [
        "from tensorflow.keras.optimizers import RMSprop\n",
        "optimizer = RMSprop(lr=0.01)\n",
        "model.compile(loss='categorical_crossentropy', optimizer=optimizer, metrics=['accuracy'])\n",
        "history = model.fit(X, Y, validation_split=0.05, batch_size=128, epochs=20, shuffle=True).history"
      ]
    },
    {
      "cell_type": "markdown",
      "source": [
        "**8. Saving model:**\n",
        "\n",
        "\n",
        "The model is saved using the save function and loaded."
      ],
      "metadata": {
        "id": "6-0K5t0aUH45"
      }
    },
    {
      "cell_type": "code",
      "execution_count": null,
      "metadata": {
        "id": "MQEvl-n1RMAV"
      },
      "outputs": [],
      "source": [
        "import pickle\n",
        "model.save('keras_next_word_model.h5')\n",
        "pickle.dump(history, open(\"history.p\", \"wb\"))\n",
        "model = load_model('keras_next_word_model.h5')\n",
        "history = pickle.load(open(\"history.p\", \"rb\"))"
      ]
    },
    {
      "cell_type": "markdown",
      "source": [
        "**9. Evaluating the model:**\n",
        "\n",
        "\n",
        "We can see the results of the models on evaluation.\n",
        "\n",
        "plt.plot(history['acc'])\n",
        "plt.plot(history['val_acc'])\n",
        "plt.title('model accuracy')\n",
        "plt.ylabel('accuracy')\n",
        "plt.xlabel('epoch')\n",
        "plt.legend(['train', 'test'], loc='upper left')\n",
        "model accuracy\n",
        "plt.plot(history['loss'])\n",
        "plt.plot(history['val_loss'])\n",
        "plt.title('model loss')\n",
        "plt.ylabel('loss')\n",
        "plt.xlabel('epoch')\n",
        "plt.legend(['train', 'test'], loc='upper left')\n",
        "model loss | predict next word LSTM\n",
        "\n",
        "![886421_HKPRdSmtTbM2wMJLARbvdA.png](data:image/png;base64,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)\n"
      ],
      "metadata": {
        "id": "9bDGTUbTUTBu"
      }
    },
    {
      "cell_type": "markdown",
      "source": [
        "**10. Testing next word:**\n",
        "\n",
        "\n",
        "\n",
        "These functions will help us to predict the next few words when we provide a sentence."
      ],
      "metadata": {
        "id": "xMPhGKrcUlUj"
      }
    },
    {
      "cell_type": "code",
      "source": [
        "def prepare_input(text):\n",
        "    x = np.zeros((1, WORD_LENGTH, len(unique_words)))\n",
        "    for t, word in enumerate(text.split()):\n",
        "        print(word)\n",
        "        x[0, t, unique_word_index[word]] = 1\n",
        "    return x\n",
        "prepare_input(\"It is not a lack\".lower())"
      ],
      "metadata": {
        "colab": {
          "base_uri": "https://localhost:8080/"
        },
        "id": "G43P28YfNc3x",
        "outputId": "0807cc58-3bf8-4618-c7bd-ef0769ff6cd0"
      },
      "execution_count": null,
      "outputs": [
        {
          "output_type": "stream",
          "name": "stdout",
          "text": [
            "it\n",
            "is\n",
            "not\n",
            "a\n",
            "lack\n"
          ]
        },
        {
          "output_type": "execute_result",
          "data": {
            "text/plain": [
              "array([[[0., 0., 0., ..., 0., 0., 0.],\n",
              "        [0., 0., 0., ..., 0., 0., 0.],\n",
              "        [0., 0., 0., ..., 0., 0., 0.],\n",
              "        [0., 0., 0., ..., 0., 0., 0.],\n",
              "        [0., 0., 0., ..., 0., 0., 0.]]])"
            ]
          },
          "metadata": {},
          "execution_count": 35
        }
      ]
    },
    {
      "cell_type": "code",
      "source": [
        "import heapq\n",
        "def sample(preds, top_n=3):\n",
        "    preds = np.asarray(preds).astype('float64')\n",
        "    preds = np.log(preds)\n",
        "    exp_preds = np.exp(preds)\n",
        "    preds = exp_preds / np.sum(exp_preds)\n",
        "    return heapq.nlargest(top_n, range(len(preds)), preds.take)"
      ],
      "metadata": {
        "id": "Eb5rh7yZNeU9"
      },
      "execution_count": null,
      "outputs": []
    },
    {
      "cell_type": "code",
      "source": [
        "def predict_completions(text, n=3):\n",
        "    if text == \"\":\n",
        "        return(\"0\")\n",
        "    x = prepare_input(text)\n",
        "    preds = model.predict(x, verbose=0)[0]\n",
        "    next_indices = sample(preds, n)\n",
        "    return [unique_words[idx] for idx in next_indices]"
      ],
      "metadata": {
        "id": "A4O1W7sCNizl"
      },
      "execution_count": null,
      "outputs": []
    },
    {
      "cell_type": "code",
      "source": [
        "q=input()\n",
        "print(\"correct sentence: \",q)"
      ],
      "metadata": {
        "colab": {
          "base_uri": "https://localhost:8080/"
        },
        "id": "CggDxOxsNmHw",
        "outputId": "ee7d6573-cc68-48e6-8d99-e25f7192b87c"
      },
      "execution_count": null,
      "outputs": [
        {
          "output_type": "stream",
          "name": "stdout",
          "text": [
            "lets have fun and\n",
            "correct sentence:  lets have fun and\n"
          ]
        }
      ]
    },
    {
      "cell_type": "code",
      "source": [
        "seq = \" \".join(tokenizer.tokenize(q.lower())[0:5])\n",
        "print(\"Sequence: \",seq)\n",
        "l = predict_completions(seq, 5)\n",
        "print(\"next possible words: \", l )"
      ],
      "metadata": {
        "colab": {
          "base_uri": "https://localhost:8080/"
        },
        "id": "2ICD7DBUNs7W",
        "outputId": "57f9b5f2-30a5-4b6c-da67-6b928b3286f3"
      },
      "execution_count": null,
      "outputs": [
        {
          "output_type": "stream",
          "name": "stdout",
          "text": [
            "Sequence:  lets have fun and\n"
          ]
        }
      ]
    }
  ],
  "metadata": {
    "colab": {
      "provenance": [],
      "authorship_tag": "ABX9TyNwxg16bvy9cDtO8oC3E6uq",
      "include_colab_link": true
    },
    "kernelspec": {
      "display_name": "Python 3",
      "name": "python3"
    },
    "language_info": {
      "name": "python"
    }
  },
  "nbformat": 4,
  "nbformat_minor": 0
}